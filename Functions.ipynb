{
 "cells": [
  {
   "cell_type": "markdown",
   "metadata": {},
   "source": [
    "### Functions"
   ]
  },
  {
   "cell_type": "code",
   "execution_count": 1,
   "metadata": {},
   "outputs": [],
   "source": [
    "def wish():\n",
    "    print(\"Good Morning\")\n",
    "    print(\"There is no substitute for hardwork\")"
   ]
  },
  {
   "cell_type": "code",
   "execution_count": 2,
   "metadata": {},
   "outputs": [
    {
     "name": "stdout",
     "output_type": "stream",
     "text": [
      "Good Morning\n",
      "There is no substitute for hardwork\n"
     ]
    }
   ],
   "source": [
    "wish()"
   ]
  },
  {
   "cell_type": "markdown",
   "metadata": {},
   "source": [
    "#### Function with arguments"
   ]
  },
  {
   "cell_type": "code",
   "execution_count": 3,
   "metadata": {},
   "outputs": [
    {
     "name": "stdout",
     "output_type": "stream",
     "text": [
      "Good Morning\n",
      "There is no substitute for hardwork\n"
     ]
    }
   ],
   "source": [
    "def wish():\n",
    "    print(\"Good Morning\")\n",
    "    print(\"There is no substitute for hardwork\")\n",
    "wish()"
   ]
  },
  {
   "cell_type": "code",
   "execution_count": 5,
   "metadata": {},
   "outputs": [
    {
     "name": "stdout",
     "output_type": "stream",
     "text": [
      "Good Morning Anoushka Bose\n",
      "You are the best person\n"
     ]
    }
   ],
   "source": [
    "def wish(name):\n",
    "    print(\"Good Morning\", name)\n",
    "    print(\"You are the best person\")\n",
    "\n",
    "wish(\"Anoushka Bose\")"
   ]
  },
  {
   "cell_type": "code",
   "execution_count": 6,
   "metadata": {},
   "outputs": [],
   "source": [
    "def function_name():\n",
    "    pass\n",
    "function_name()"
   ]
  },
  {
   "cell_type": "code",
   "execution_count": 10,
   "metadata": {},
   "outputs": [
    {
     "name": "stdout",
     "output_type": "stream",
     "text": [
      "Enter 1st number: 2\n",
      "Enter 2nd number: 3\n",
      "5\n"
     ]
    }
   ],
   "source": [
    "#### add 2 numbers (read from kb) using function\n",
    "def sum(a,b):\n",
    "    val=a+b\n",
    "    print(val)\n",
    "\n",
    "a = int(input(\"Enter 1st number: \"))\n",
    "b = int(input(\"Enter 2nd number: \"))\n",
    "sum(a,b)"
   ]
  },
  {
   "cell_type": "code",
   "execution_count": 11,
   "metadata": {},
   "outputs": [
    {
     "name": "stdout",
     "output_type": "stream",
     "text": [
      "13\n"
     ]
    }
   ],
   "source": [
    "sum(6,7)"
   ]
  },
  {
   "cell_type": "code",
   "execution_count": 13,
   "metadata": {},
   "outputs": [
    {
     "name": "stdout",
     "output_type": "stream",
     "text": [
      "177.39999999999998\n"
     ]
    }
   ],
   "source": [
    "sum(77.8, 99.6)"
   ]
  },
  {
   "cell_type": "code",
   "execution_count": 14,
   "metadata": {},
   "outputs": [
    {
     "name": "stdout",
     "output_type": "stream",
     "text": [
      "Enter 1st number: 4\n",
      "Enter 2nd number: 8\n",
      "12\n"
     ]
    }
   ],
   "source": [
    "#### add 2 numbers (read from kb) using function and return type\n",
    "def sum(a,b):\n",
    "    val=a+b\n",
    "    return val\n",
    "\n",
    "a = int(input(\"Enter 1st number: \"))\n",
    "b = int(input(\"Enter 2nd number: \"))\n",
    "print(sum(a,b))"
   ]
  },
  {
   "cell_type": "code",
   "execution_count": 16,
   "metadata": {},
   "outputs": [
    {
     "name": "stdout",
     "output_type": "stream",
     "text": [
      "Enter 1st number: 8\n",
      "Enter 2nd number: 6\n",
      "14\n"
     ]
    }
   ],
   "source": [
    "#### add 2 numbers (read from kb) using function and return type\n",
    "def sum(a,b):\n",
    "    val=a+b\n",
    "    return val\n",
    "\n",
    "a = int(input(\"Enter 1st number: \"))\n",
    "b = int(input(\"Enter 2nd number: \"))\n",
    "res = sum(a,b)\n",
    "print(res)"
   ]
  },
  {
   "cell_type": "code",
   "execution_count": 17,
   "metadata": {},
   "outputs": [
    {
     "name": "stdout",
     "output_type": "stream",
     "text": [
      "Good Morning\n"
     ]
    }
   ],
   "source": [
    "def wish():\n",
    "    return(\"Good Morning\")\n",
    "    print(\"There is no substitute for hardwork\")\n",
    "print(wish())"
   ]
  },
  {
   "cell_type": "code",
   "execution_count": 18,
   "metadata": {},
   "outputs": [
    {
     "name": "stdout",
     "output_type": "stream",
     "text": [
      "The coconut is supplied from Puri per item 30 Rs\n"
     ]
    }
   ],
   "source": [
    "def fruit(name, price, city):\n",
    "    print(\"The\", name, \"is supplied from\", city, \"per item\", price, \"Rs\")\n",
    "\n",
    "fruit(\"coconut\", 30, \"Puri\")"
   ]
  },
  {
   "cell_type": "code",
   "execution_count": 19,
   "metadata": {},
   "outputs": [
    {
     "name": "stdout",
     "output_type": "stream",
     "text": [
      "The coconut is supplied from Puri per item 30 Rs\n"
     ]
    }
   ],
   "source": [
    "def fruit(name, price=30, city=\"Puri\"):\n",
    "    print(\"The\", name, \"is supplied from\", city, \"per item\", price, \"Rs\")\n",
    "\n",
    "fruit(\"coconut\")"
   ]
  },
  {
   "cell_type": "code",
   "execution_count": 25,
   "metadata": {},
   "outputs": [
    {
     "name": "stdout",
     "output_type": "stream",
     "text": [
      "The coconut is supplied from Puri per item 30 Rs\n"
     ]
    }
   ],
   "source": [
    "def fruit(name=\"Apple\", price=30, city=\"Puri\"):\n",
    "    print(\"The\", name, \"is supplied from\", city, \"per item\", price, \"Rs\")\n",
    "\n",
    "fruit(\"coconut\")"
   ]
  },
  {
   "cell_type": "code",
   "execution_count": 26,
   "metadata": {},
   "outputs": [
    {
     "name": "stdout",
     "output_type": "stream",
     "text": [
      "The Apple is supplied from Puri per item 30 Rs\n"
     ]
    }
   ],
   "source": [
    "fruit()"
   ]
  },
  {
   "cell_type": "code",
   "execution_count": 29,
   "metadata": {},
   "outputs": [
    {
     "name": "stdout",
     "output_type": "stream",
     "text": [
      "cgpa:  9.18\n",
      "name:  Anoushka\n",
      "roll:  1129\n"
     ]
    }
   ],
   "source": [
    "def stud_info(n, c, r):\n",
    "    print(\"cgpa: \", c)\n",
    "    print(\"name: \", n)\n",
    "    print(\"roll: \", r)\n",
    "    \n",
    "\n",
    "stud_info(n=\"Anoushka\", c=9.18, r=1129)"
   ]
  },
  {
   "cell_type": "code",
   "execution_count": 30,
   "metadata": {},
   "outputs": [
    {
     "name": "stdout",
     "output_type": "stream",
     "text": [
      "cgpa:  9.18\n",
      "name:  Anoushka\n",
      "roll:  1129\n"
     ]
    }
   ],
   "source": [
    "def stud_info(c, n, r):\n",
    "    print(\"cgpa: \", c)\n",
    "    print(\"name: \", n)\n",
    "    print(\"roll: \", r)\n",
    "    \n",
    "\n",
    "stud_info(n=\"Anoushka\", c=9.18, r=1129)\n",
    "# Here order is not fixed\n",
    "# Keyword must be same"
   ]
  },
  {
   "cell_type": "code",
   "execution_count": 31,
   "metadata": {},
   "outputs": [
    {
     "name": "stdout",
     "output_type": "stream",
     "text": [
      "cgpa:  Ann\n",
      "name:  9\n",
      "roll:  899\n"
     ]
    }
   ],
   "source": [
    "stud_info(\"Ann\", 9, 899)"
   ]
  },
  {
   "cell_type": "code",
   "execution_count": 32,
   "metadata": {},
   "outputs": [],
   "source": [
    "## Arguments:\n",
    "### Positional\n",
    "### Default\n",
    "### Keyword\n",
    "### Arbitrary\n",
    "### Keyword Arbitrary"
   ]
  },
  {
   "cell_type": "code",
   "execution_count": 39,
   "metadata": {},
   "outputs": [
    {
     "name": "stdout",
     "output_type": "stream",
     "text": [
      "7\n",
      "8.9\n",
      "(8.5, 8.6, 7, 8.9, 8.8, 8.9, 'Ann')\n",
      "8.5\n",
      "8.6\n",
      "7\n",
      "8.9\n",
      "8.8\n",
      "8.9\n",
      "Ann\n",
      "8.5\n",
      "8.6\n",
      "7\n",
      "8.9\n",
      "8.8\n",
      "8.9\n",
      "Ann\n"
     ]
    }
   ],
   "source": [
    "# Arbitrary arguments\n",
    "def stud(*details):\n",
    "    print(details[2])\n",
    "    print(details[-2])\n",
    "    print(details)\n",
    "    for item in details:\n",
    "        print(item)\n",
    "        \n",
    "    [print(item) for item in details]\n",
    "\n",
    "stud(8.5, 8.6, 7, 8.9, 8.8, 8.9, \"Ann\")"
   ]
  },
  {
   "cell_type": "code",
   "execution_count": 48,
   "metadata": {},
   "outputs": [
    {
     "name": "stdout",
     "output_type": "stream",
     "text": [
      "8.9\n",
      "Ann\n",
      "Van\n",
      "Kai\n",
      "('Ann', 8.9)\n",
      "('Van', 8.7)\n",
      "('Kai', 8.8)\n"
     ]
    }
   ],
   "source": [
    "# Keyword Arbitrary arguments\n",
    "def stud2(**details):   \n",
    "    print(details['Ann'])\n",
    "    [print(item) for item in details]\n",
    "    for item in details.items():\n",
    "        print(item)\n",
    "\n",
    "stud2(Ann=8.9, Van=8.7, Kai=8.8)"
   ]
  },
  {
   "cell_type": "code",
   "execution_count": 57,
   "metadata": {},
   "outputs": [
    {
     "name": "stdout",
     "output_type": "stream",
     "text": [
      "[64, 343, 970.2990000000001, 91125]\n"
     ]
    }
   ],
   "source": [
    "## display the cube of nos present in the list during function call\n",
    "\n",
    "def cube_nos(l):\n",
    "    l1=[]\n",
    "    [l1.append(item**3) for item in l]\n",
    "    return l1\n",
    "\n",
    "myList=[4,7,9.9,45]\n",
    "print(cube_nos(myList))"
   ]
  },
  {
   "cell_type": "code",
   "execution_count": 62,
   "metadata": {},
   "outputs": [
    {
     "name": "stdout",
     "output_type": "stream",
     "text": [
      "Enter the number: 0\n",
      "1\n"
     ]
    }
   ],
   "source": [
    "# factorial of a given num\n",
    "def fac(n):\n",
    "    s=1\n",
    "    for i in range(2,n+1):\n",
    "        s *= i\n",
    "    return s\n",
    "\n",
    "n = int(input(\"Enter the number: \"))\n",
    "print(fac(n))"
   ]
  },
  {
   "cell_type": "code",
   "execution_count": 63,
   "metadata": {},
   "outputs": [
    {
     "name": "stdout",
     "output_type": "stream",
     "text": [
      "Enter the number: 123\n",
      "6\n"
     ]
    }
   ],
   "source": [
    "# sum of digit of number\n",
    "def summ(n):\n",
    "    s=0\n",
    "    while n>0:\n",
    "        r = n%10\n",
    "        s += r\n",
    "        n = n//10\n",
    "    return s\n",
    "\n",
    "n = int(input(\"Enter the number: \"))\n",
    "print(summ(n))"
   ]
  },
  {
   "cell_type": "code",
   "execution_count": 64,
   "metadata": {},
   "outputs": [
    {
     "name": "stdout",
     "output_type": "stream",
     "text": [
      "Enter the number: 123\n",
      "321\n"
     ]
    }
   ],
   "source": [
    "# Reverse of a number\n",
    "def rev(n):\n",
    "    s=0\n",
    "    while n>0:\n",
    "        r = n%10\n",
    "        s = s*10 + r\n",
    "        n = n//10\n",
    "    return s\n",
    "\n",
    "n = int(input(\"Enter the number: \"))\n",
    "print(rev(n))"
   ]
  },
  {
   "cell_type": "code",
   "execution_count": 67,
   "metadata": {},
   "outputs": [
    {
     "name": "stdout",
     "output_type": "stream",
     "text": [
      "Enter the number: 6\n",
      "Not Prime\n"
     ]
    }
   ],
   "source": [
    "# prime number\n",
    "def pn(n):\n",
    "    c=0\n",
    "    for i in range(2, n-1):\n",
    "        if n%i == 0:\n",
    "            c=1\n",
    "            break\n",
    "    return c\n",
    "\n",
    "n = int(input(\"Enter the number: \"))\n",
    "c = pn(n)\n",
    "if c==0:\n",
    "    print(\"Prime\")\n",
    "else:\n",
    "    print(\"Not Prime\")"
   ]
  },
  {
   "cell_type": "code",
   "execution_count": 70,
   "metadata": {},
   "outputs": [
    {
     "name": "stdout",
     "output_type": "stream",
     "text": [
      "Mark 1: 89\n",
      "Mark 2: 98\n",
      "Mark 3: 90\n",
      "Mark 4: 77\n",
      "Mark 5: 67\n",
      "average:  84.2\n",
      "CGPA:  8.42\n",
      "grade:  E\n"
     ]
    }
   ],
   "source": [
    "# WAP using func calculating avg marks, compute grade, mean or avg marks that will pass to the \n",
    "# second function and it willl compute the grade, display avg marks \n",
    "\n",
    "def grade(k):\n",
    "    if k>=90:\n",
    "        return 'O'\n",
    "    elif k>=80:\n",
    "        return 'E'\n",
    "    elif k>=70:\n",
    "        return 'A'\n",
    "    elif k>=60:\n",
    "        return 'B'\n",
    "    elif k>=50:\n",
    "        return 'C'\n",
    "    elif k>=40:\n",
    "        return 'D'\n",
    "    else:\n",
    "        return 'F'\n",
    "\n",
    "def average(l):\n",
    "    a = 0;\n",
    "    for i in l:\n",
    "        a += i\n",
    "        \n",
    "    a = a/5\n",
    "    k = grade(a)\n",
    "    ll=[a,k]\n",
    "    display(ll)\n",
    "\n",
    "def display(ll):\n",
    "    print(\"average: \", ll[0])\n",
    "    print(\"CGPA: \", ll[0]/10)\n",
    "    print(\"grade: \", ll[1])\n",
    "\n",
    "a = int(input(\"Mark 1: \"))\n",
    "b = int(input(\"Mark 2: \"))\n",
    "c = int(input(\"Mark 3: \"))\n",
    "d = int(input(\"Mark 4: \"))\n",
    "e = int(input(\"Mark 5: \"))\n",
    "l = [a, b, c, d, e]\n",
    "average(l)\n"
   ]
  },
  {
   "cell_type": "code",
   "execution_count": 72,
   "metadata": {},
   "outputs": [
    {
     "name": "stdout",
     "output_type": "stream",
     "text": [
      "Enter n: 7\n",
      "*\n",
      "**\n",
      "***\n",
      "****\n",
      "*****\n",
      "******\n",
      "*******\n"
     ]
    }
   ],
   "source": [
    "n=int(input(\"Enter n: \"))\n",
    "\n",
    "for i in range(1, n+1):\n",
    "    for j in range(1, i+1):\n",
    "        print(\"*\", end='')\n",
    "    print()"
   ]
  },
  {
   "cell_type": "code",
   "execution_count": 73,
   "metadata": {},
   "outputs": [
    {
     "name": "stdout",
     "output_type": "stream",
     "text": [
      "Enter n: 7\n",
      "1\n",
      "01\n",
      "101\n",
      "0101\n",
      "10101\n",
      "010101\n",
      "1010101\n"
     ]
    }
   ],
   "source": [
    "n=int(input(\"Enter n: \"))\n",
    "c=0\n",
    "for i in range(1, n+1):\n",
    "    c = i%2\n",
    "    for j in range(1, i+1):\n",
    "        print(c, end='')\n",
    "        c= 1-c\n",
    "    print()"
   ]
  },
  {
   "cell_type": "code",
   "execution_count": 76,
   "metadata": {},
   "outputs": [
    {
     "name": "stdout",
     "output_type": "stream",
     "text": [
      "Enter n: 5\n",
      "A\n",
      "BA\n",
      "CBA\n",
      "DCBA\n",
      "EDCBA\n"
     ]
    }
   ],
   "source": [
    "n=int(input(\"Enter n: \"))\n",
    "for i in range(1, n+1):\n",
    "    for j in range(1, i+1):\n",
    "        print(chr(65+i-j), end='')\n",
    "    print()"
   ]
  },
  {
   "cell_type": "code",
   "execution_count": 79,
   "metadata": {},
   "outputs": [
    {
     "name": "stdout",
     "output_type": "stream",
     "text": [
      "Enter n: 5\n",
      "    * \n",
      "   * * \n",
      "  * * * \n",
      " * * * * \n",
      "* * * * * \n"
     ]
    }
   ],
   "source": [
    "n=int(input(\"Enter n: \"))\n",
    "\n",
    "for i in range(1, n+1):\n",
    "    for j in range(n+1-i,1,-1):\n",
    "        print(\" \", end='')\n",
    "    for j in range(1, i+1):\n",
    "        print(\"*\", end=' ')\n",
    "    print()"
   ]
  },
  {
   "cell_type": "code",
   "execution_count": null,
   "metadata": {},
   "outputs": [],
   "source": []
  }
 ],
 "metadata": {
  "kernelspec": {
   "display_name": "Python 3",
   "language": "python",
   "name": "python3"
  },
  "language_info": {
   "codemirror_mode": {
    "name": "ipython",
    "version": 3
   },
   "file_extension": ".py",
   "mimetype": "text/x-python",
   "name": "python",
   "nbconvert_exporter": "python",
   "pygments_lexer": "ipython3",
   "version": "3.8.5"
  }
 },
 "nbformat": 4,
 "nbformat_minor": 4
}
